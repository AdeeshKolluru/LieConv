{
 "cells": [
  {
   "cell_type": "markdown",
   "metadata": {},
   "source": [
    "## Train the PointConv HamNet on Spring Dynamics"
   ]
  },
  {
   "cell_type": "code",
   "execution_count": null,
   "metadata": {},
   "outputs": [],
   "source": [
    "import os\n",
    "import torch\n",
    "from torch.utils.data import DataLoader\n",
    "from torch.optim import SGD, Adam\n",
    "from oil.utils.utils import LoaderTo, cosLr, recursively_update,islice, Eval\n",
    "from equivariant_color.datasets import SpringDynamics\n",
    "from equivariant_color.dynamicsTrainer import IntegratedDynamicsTrainer,FCHamNet, Partial,RawDynamicsNet, LieConvNetT2, LieResNetT2\n",
    "from graphnets import OGN,HOGN, VOGN\n",
    "def makeTrainer(lr=1e-2,N=4000, regen=False):\n",
    "    # Create Training set and model\n",
    "    trainset = SpringDynamics('~/datasets/ODEDynamics/SpringDynamics/',N=N,regen=regen)\n",
    "    testset = SpringDynamics('~/datasets/ODEDynamics/SpringDynamics/',N=N//10,train=False,regen=regen)\n",
    "    device = torch.device('cuda')\n",
    "    dtype = torch.float32\n",
    "    model = FCHamNet(k=256).to(device=device,dtype=dtype)\n",
    "    #model = LieConvNetT2(k=256,bn=False).to(device=device,dtype=dtype)\n",
    "    #model = LieResNetT2(k=512,bn=False).to(device=device,dtype=dtype)\n",
    "    #model = HOGN(k=256).to(device=device,dtype=dtype)\n",
    "    #model = OGN(k=256).to(device=device,dtype=dtype)\n",
    "    #model = VOGN(k=512).to(device=device,dtype=dtype)\n",
    "    #model = RawDynamicsNet(k=256).to(device=device,dtype=dtype)\n",
    "    #model.double()\n",
    "    \n",
    "    # Create train and Dev(Test) dataloaders and move elems to gpu\n",
    "    dataloaders = {}\n",
    "    dataloaders['train'] = DataLoader(trainset,batch_size=200,num_workers=0,shuffle=True,pin_memory=True)\n",
    "    dataloaders['Train'] = dataloaders['train']\n",
    "    dataloaders['Test'] = DataLoader(testset,batch_size=100,num_workers=0,shuffle=False,pin_memory=True)\n",
    "    dataloaders = {k:LoaderTo(v,device=device,dtype=dtype) for k,v in dataloaders.items()}\n",
    "    \n",
    "    # Initialize optimizer and learning rate schedule\n",
    "    opt_constr = lambda params: Adam(params, lr=lr)\n",
    "    lr_sched = lambda e: 1#cosLr(cfg['num_epochs'])\n",
    "    return IntegratedDynamicsTrainer(model,dataloaders,opt_constr,lr_sched,log_args={'timeFrac':1/2,'minPeriod':0.0})"
   ]
  },
  {
   "cell_type": "code",
   "execution_count": null,
   "metadata": {},
   "outputs": [],
   "source": [
    "trainer = makeTrainer(lr=1e-2, N=200, regen=True)\n",
    "trainer.train(32)"
   ]
  },
  {
   "cell_type": "markdown",
   "metadata": {},
   "source": [
    "All trained for 10 epochs @ N=4000 on SpringDynamics w/ original chunking\n",
    "\n",
    "LieResNet k=1024 lr=3e-3\n",
    "Test_MSE  Train_MSE    lr0   nfe\n",
    "0.000269   0.000044  0.003  23.5\n",
    "\n",
    "LieResNet k=512 lr=3e-3 ===================\n",
    "Test_MSE  Train_MSE    lr0        nfe\n",
    "0.000143   0.000047  0.003  25.411765\n",
    "            \n",
    "LieResNet k=256 lr=3e-3\n",
    "Test_MSE  Train_MSE    lr0        nfe\n",
    "0.000774   0.000055  0.003  26.641711\n",
    "\n",
    "OGN k=256 lr=1e-2 =========================\n",
    "Test_MSE\tTrain_MSE\tlr0\tnfe\n",
    "0.002872\t0.001338\t0.01\t46.545455\n",
    "\n",
    "HOGN k=256(tuned) lr=1e-2(tuned) ==========\n",
    "Test_MSE\tTrain_MSE\tlr0\t      nfe\n",
    "0.003142\t0.001004\t0.01\t29.333333\n",
    "\n",
    "VOGN k=256 lr=1e-2\n",
    "Test_MSE\tTrain_MSE\tlr0\tnfe\n",
    "0.000295\t0.000136\t0.01\t23.272727\n",
    "\n",
    "VOGN k=512 lr=1e-2 =======================\n",
    "Test_MSE  Train_MSE   lr0        nfe\n",
    "0.000243   0.000153  0.01  23.179487\n",
    "\n",
    "RawDynamics k=1024 lr=3e-3\n",
    "Test_MSE\tTrain_MSE\tlr0\tnfe\n",
    "0.053781\t0.003038\t0.003\t33.777778\n",
    "\n",
    "RawDynamics k=512 lr=3e-3\n",
    "Test_MSE\tTrain_MSE\tlr0\tnfe\n",
    "0.039395\t0.004135\t0.003\t33.777778\n",
    "\n",
    "RawDynamics k=256 lr=3e-3 ================\n",
    "Test_MSE\tTrain_MSE\tlr0\tnfe\n",
    "0.036957\t0.008535\t0.003\t23.249545\n",
    "\n",
    "RawDynamics k=128 lr=3e-3\n",
    "Test_MSE\tTrain_MSE\tlr0\tnfe\n",
    "0.084753\t0.034763\t0.003\t22.956522\n",
    "\n",
    "FCHamNet k=512 lr=3e-3\n",
    "Test_MSE\tTrain_MSE\tlr0\tnfe\n",
    "0.057443\t0.002975\t0.003\t24.0\n",
    "\n",
    "FCHamNet k=256 lr=1e-2 ===================\n",
    "Test_MSE  Train_MSE   lr0   nfe\n",
    "0.028576   0.003485  0.01  24.0\n",
    "\n",
    "FCHamNet k=128 lr=1e-2\n",
    "Test_MSE  Train_MSE\t  lr0\tnfe\n",
    "0.03035\t   0.008771\t 0.01\t24.0"
   ]
  },
  {
   "cell_type": "code",
   "execution_count": null,
   "metadata": {},
   "outputs": [],
   "source": [
    "import matplotlib.pyplot as plt\n",
    "trainer.logger.scalar_frame.drop(columns=['lr0','nfe']).plot()\n",
    "plt.yscale('log')"
   ]
  },
  {
   "cell_type": "code",
   "execution_count": null,
   "metadata": {},
   "outputs": [],
   "source": [
    "import matplotlib.pyplot as plt\n",
    "trainer.logger.scalar_frame.drop(columns=['lr0','nfe']).plot()\n",
    "plt.yscale('log')"
   ]
  },
  {
   "cell_type": "markdown",
   "metadata": {},
   "source": [
    "## Do the trajectories look reasonable?"
   ]
  },
  {
   "cell_type": "code",
   "execution_count": null,
   "metadata": {},
   "outputs": [],
   "source": [
    "ds = trainer.dataloaders['train'].dataset\n",
    "z0s,system_params = ds.sample_system(bs=1)\n",
    "ts,zts = ds.sim_trajectories(z0s,system_params)"
   ]
  },
  {
   "cell_type": "code",
   "execution_count": null,
   "metadata": {},
   "outputs": [],
   "source": [
    "from torchdiffeq import odeint\n",
    "\n",
    "with torch.no_grad(), Eval(trainer.model):\n",
    "    tz_model = Partial(trainer.model.cuda(),sysP=torch.stack(system_params,dim=-1).cuda())\n",
    "    zt = odeint(tz_model,z0s.cuda(),ts.cuda(),rtol=trainer.hypers['tol'],method='rk4').detach().cpu().data.numpy()"
   ]
  },
  {
   "cell_type": "code",
   "execution_count": null,
   "metadata": {
    "scrolled": true
   },
   "outputs": [],
   "source": [
    "%matplotlib notebook\n",
    "from hamiltonian import HamiltonianDynamics, SpringH, AnimationNd\n",
    "import matplotlib.pyplot as plt\n",
    "n =6\n",
    "d =2\n",
    "qt = zt[:,0,:n*d].reshape(zt.shape[0],n,d).transpose((1,2,0))\n",
    "A = AnimationNd(d)(qt)\n",
    "a = A.animate()\n",
    "plt.show()"
   ]
  },
  {
   "cell_type": "code",
   "execution_count": null,
   "metadata": {},
   "outputs": [],
   "source": [
    "H = lambda t,z: SpringH(z,*system_params)\n",
    "Dynamics = HamiltonianDynamics(H,wgrad=False)\n",
    "with torch.no_grad():\n",
    "    ztgt = odeint(Dynamics,z0s,ts,rtol=1e-4,method='rk4').cpu().data.numpy()\n",
    "    qtgt = ztgt[:,0,:n*d].reshape(zt.shape[0],n,d).transpose((1,2,0))"
   ]
  },
  {
   "cell_type": "code",
   "execution_count": null,
   "metadata": {},
   "outputs": [],
   "source": [
    "A = AnimationNd(d)(qtgt)\n",
    "a = A.animate()\n",
    "plt.show()"
   ]
  },
  {
   "cell_type": "markdown",
   "metadata": {},
   "source": [
    "## Are Energy, Momentum, Angular momentum conserved?"
   ]
  },
  {
   "cell_type": "code",
   "execution_count": null,
   "metadata": {},
   "outputs": [],
   "source": [
    "import numpy as np\n",
    "gt = False # change to true to evaluate ground truth dynamics false for learned\n",
    "(ztt,qtt) = (ztgt,qtgt) if gt else (zt,qt)\n",
    "p = ztt[:,0,n*d:].reshape(-1,n,d)\n",
    "p0 = z0s[0,n*d:].reshape(n,d)\n",
    "p0n = p0.cpu().data.numpy().reshape(1,n,d)\n",
    "q = qtt.transpose(2,0,1)\n",
    "Et = torch.stack([H(t,torch.from_numpy(z)) for t,z in zip(ts,ztt)],dim=0).cpu().data.numpy()\n",
    "pcm = (p-p.mean(1,keepdims=True))\n",
    "qcm = (q-q.mean(1,keepdims=True))\n",
    "cross = (pcm[:,:,None,:]*qcm[:,:,:,None]-qcm[:,:,None,:]*pcm[:,:,:,None]).sum(1)\n",
    "angmom = cross.reshape(-1,d**2)#[:,[5,2,1]] # pull out (2,3),(0,2),(0,1) = Lx, -Ly, Lz\n",
    "#angmom[:,1] *=-1\n",
    "fig, axs = plt.subplots(3, 1,sharex=True)\n",
    "axs[0].plot(ts,(Et-Et[0])/Et[0])\n",
    "axs[0].set_title(\"Energy drift\")\n",
    "axs[1].plot(ts,np.linalg.norm(p.sum(1)-p0n.sum(1),axis=-1)/(np.linalg.norm(p0n.sum(1),axis=-1)+1e-10))\n",
    "axs[1].set_title(\"Momentum drift\")\n",
    "axs[2].plot(ts,np.linalg.norm(angmom-angmom[:1],axis=-1)/(np.linalg.norm(angmom[:1],axis=-1)+1e-10))\n",
    "axs[2].set_title(\"Angular Momentum drift\")\n",
    "for ax in axs.flat:\n",
    "    ax.set(ylabel='relative error')\n",
    "plt.xlabel('time')\n",
    "plt.show()"
   ]
  },
  {
   "cell_type": "code",
   "execution_count": null,
   "metadata": {},
   "outputs": [],
   "source": [
    "#from oil.tuning.args import argupdated_config\n",
    "#from oil.tuning.study import Study\n",
    "#import __init__\n",
    "#from __init__ import *\n",
    "#TrainTrial = train_trial(makeTrainer)\n",
    "# thestudy = Study(TrainTrial,argupdated_config(config_spec,namespace=__init__),\n",
    "#                 study_name=\"springpoint\",base_log_dir=log_dir)\n",
    "# thestudy.run(ordered=False)\n",
    "#print(thestudy.covariates())"
   ]
  },
  {
   "cell_type": "code",
   "execution_count": null,
   "metadata": {},
   "outputs": [],
   "source": [
    "bs,n = 3,5\n",
    "cols = (torch.arange(n)[:,None]*torch.ones(n)[None,:])\n",
    "cols = (cols[None,:,:]+n*torch.arange(bs)[:,None,None]).long() #(bs,n,n) -> (bs*n*n)\n",
    "edge_index = cols.permute(0,2,1).reshape(-1), cols.reshape(-1)"
   ]
  },
  {
   "cell_type": "code",
   "execution_count": null,
   "metadata": {},
   "outputs": [],
   "source": [
    "edge_index"
   ]
  },
  {
   "cell_type": "code",
   "execution_count": null,
   "metadata": {},
   "outputs": [],
   "source": [
    "edge_index[-1]"
   ]
  },
  {
   "cell_type": "code",
   "execution_count": null,
   "metadata": {},
   "outputs": [],
   "source": [
    "batch = (torch.arange(bs)[:,None]+torch.zeros(n)[None,:]).reshape(-1)"
   ]
  },
  {
   "cell_type": "code",
   "execution_count": null,
   "metadata": {},
   "outputs": [],
   "source": [
    "batch[edge_index[-1]]"
   ]
  },
  {
   "cell_type": "code",
   "execution_count": null,
   "metadata": {},
   "outputs": [],
   "source": [
    "batch"
   ]
  },
  {
   "cell_type": "code",
   "execution_count": null,
   "metadata": {},
   "outputs": [],
   "source": []
  }
 ],
 "metadata": {
  "kernelspec": {
   "display_name": "Python 3",
   "language": "python",
   "name": "python3"
  },
  "language_info": {
   "codemirror_mode": {
    "name": "ipython",
    "version": 3
   },
   "file_extension": ".py",
   "mimetype": "text/x-python",
   "name": "python",
   "nbconvert_exporter": "python",
   "pygments_lexer": "ipython3",
   "version": "3.7.5"
  }
 },
 "nbformat": 4,
 "nbformat_minor": 2
}
