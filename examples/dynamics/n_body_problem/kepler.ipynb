{
 "cells": [
  {
   "cell_type": "code",
   "execution_count": null,
   "metadata": {},
   "outputs": [],
   "source": [
    "%matplotlib notebook\n",
    "from hamiltonian import *\n",
    "from equivariant_color.datasets import NBodyDynamics\n",
    "\n",
    "import math\n",
    "\n",
    "torch.set_default_tensor_type(torch.DoubleTensor)"
   ]
  },
  {
   "cell_type": "markdown",
   "metadata": {},
   "source": [
    "## Kepler Dynamics"
   ]
  },
  {
   "cell_type": "code",
   "execution_count": null,
   "metadata": {},
   "outputs": [],
   "source": [
    "n, d = 6, 2\n",
    "n_body_dynamics = NBodyDynamics(n_systems=4, regen=False)\n",
    "systems = n_body_dynamics.sample_system(n_systems=2, space_dim=d)\n",
    "z0 = systems[0]\n",
    "masses = systems[1][0]\n",
    "\n",
    "H = lambda t,z: KeplerH(z,masses)\n",
    "Dynamics = HamiltonianDynamics(H,wgrad=False)\n",
    "ts = torch.linspace(0, 2., 100).double()\n",
    "with torch.no_grad():\n",
    "    zt = odeint(Dynamics,z0,ts,rtol=1e-8, method='dopri5').cpu().data.numpy()"
   ]
  },
  {
   "cell_type": "code",
   "execution_count": null,
   "metadata": {},
   "outputs": [],
   "source": [
    "qt = zt[:,0,:n*d].reshape(zt.shape[0],n,d).transpose((1,2,0))\n",
    "xlim = ylim = zlim = (-1, 1)\n",
    "A = AnimationNd(d)(qt, None)\n",
    "a = A.animate()\n",
    "plt.show()"
   ]
  },
  {
   "cell_type": "code",
   "execution_count": null,
   "metadata": {},
   "outputs": [],
   "source": [
    "# n = 6\n",
    "# G = 1. # 6.67408 * 10 ** (-11)\n",
    "# d = 3\n",
    "# star_mass = 32.\n",
    "# star_pos = (0, 0, 0)\n",
    "# star_vel = (0, 0, 0)\n",
    "\n",
    "# planet_mass_min, planet_mass_max = 2e-2, 2e-1\n",
    "# planet_mass_range = planet_mass_max - planet_mass_min\n",
    "\n",
    "# planet_dist_min, planet_dist_max = 0.25, 1.\n",
    "# planet_dist_range = planet_dist_max - planet_dist_min"
   ]
  },
  {
   "cell_type": "code",
   "execution_count": null,
   "metadata": {},
   "outputs": [],
   "source": [
    "# star = torch.tensor([star_mass, *star_pos, *star_vel])\n",
    "\n",
    "# # sample planet masses, radius vectors\n",
    "# planet_masses = planet_mass_range * torch.rand(n-1, 1) + planet_mass_min\n",
    "\n",
    "# theta = 2 * math.pi * torch.rand(n-1)\n",
    "# phi = torch.acos(2 * torch.rand(n-1) - 1) # incorrect to uniformly sample \\phi \\in [0, \\pi]\n",
    "# rho = torch.linspace(planet_dist_min, planet_dist_max, n-1) + (0.3 * (torch.rand(n-1)-.5)*(planet_dist_range/(n-1)))\n",
    "\n",
    "# planet_pos = torch.stack([\n",
    "#     rho * torch.sin(phi) * torch.cos(theta),\n",
    "#     rho * torch.sin(phi) * torch.sin(theta),\n",
    "#     rho * torch.cos(phi)\n",
    "# ], dim=1)\n",
    "\n",
    "# # get orthonormal tangent plane basis vectors\n",
    "# e_1 = torch.stack([torch.zeros(n-1), -planet_pos[:, 2], planet_pos[:, 1]], dim=1)\n",
    "# e_2 = torch.cross(planet_pos, e_1, dim=-1)\n",
    "\n",
    "# # print((e_1 * e_2).sum(-1))\n",
    "# e_1 = e_1 / e_1.norm(dim=-1, keepdim=True)\n",
    "# e_2 = e_2 / e_2.norm(dim=-1, keepdim=True)\n",
    "\n",
    "# # sample initial stable orbit velocities\n",
    "# planet_vel_magnitude = (G * star_mass / rho).sqrt().unsqueeze(-1)\n",
    "# omega = 2 * math.pi * torch.rand(n - 1, 1)\n",
    "# planet_vel = torch.cos(omega) * e_1 + torch.sin(omega) * e_2\n",
    "# # print(planet_vel.norm(dim=-1))\n",
    "# planet_vel = planet_vel_magnitude * planet_vel\n",
    "# # planet_vel *= 1 + 0.2 * (torch.rand(n-1, 1)-0.5)\n",
    "# planet_momentum = planet_masses * planet_vel\n",
    "\n",
    "# planets = torch.cat([planet_masses, planet_pos, planet_momentum], dim=1)\n",
    "# sim_params = torch.cat([star.unsqueeze(0), planets])"
   ]
  },
  {
   "cell_type": "code",
   "execution_count": null,
   "metadata": {},
   "outputs": [],
   "source": [
    "# masses = .1+5*torch.rand(n)[None].double()#torch.tensor([10,40,70,500]).double()[None,:n]#10*(torch.rand(n)+.1)[None]\n",
    "# q0 = .8*torch.randn(n,d).double()#torch.tensor([3,2,-3,0,0,0,0,5,0,1,1,6]).double()[:n*d]#\n",
    "# p0 = .4*torch.randn(n,d).double()#torch.tensor([1,20,-6,0,0,14,50,0,0,0,0,0]).double()[:n*d]#30*(torch.randn(n,d)).reshape(n*d)\n",
    "# p0 -= p0.mean(0,keepdim=True)\n",
    "# #q0 -= q0.mean(0,keepdim=True)\n",
    "# z0 = torch.cat([q0.reshape(n*d),p0.reshape(n*d)])[None,:]\n",
    "# masses.shape"
   ]
  },
  {
   "cell_type": "code",
   "execution_count": null,
   "metadata": {},
   "outputs": [],
   "source": [
    "# n_body_dynamics = NBodyDynamics(N=4, regen=True)\n",
    "# systems = n_body_dynamics.sample_system(4)\n",
    "# time_points, obs = n_body_dynamics.sim_trajectories(systems[0], systems[1])\n",
    "# print(time_points.shape)"
   ]
  },
  {
   "cell_type": "code",
   "execution_count": null,
   "metadata": {},
   "outputs": [],
   "source": [
    "# masses = sim_params[:, 0].unsqueeze(0)\n",
    "# pos = sim_params[:, 1:4].reshape(-1)\n",
    "# momentum = sim_params[:, 4:7].reshape(-1)\n",
    "# z0 = torch.cat([pos, momentum]).unsqueeze(0)\n"
   ]
  },
  {
   "cell_type": "code",
   "execution_count": null,
   "metadata": {},
   "outputs": [],
   "source": [
    "# momentums = zt[:,0,n*d:].reshape(zt.shape[0],n,d)\n",
    "# np.linalg.norm(momentums, axis=-1).std(0)"
   ]
  },
  {
   "cell_type": "markdown",
   "metadata": {},
   "source": [
    "## Spring Dynamics"
   ]
  },
  {
   "cell_type": "code",
   "execution_count": null,
   "metadata": {},
   "outputs": [],
   "source": [
    "n = 6\n",
    "d = 2\n",
    "masses = (.9*torch.rand(n).double()[None]+.1)#torch.tensor([10,40,70,500]).double()[None,:n]#10*(torch.rand(n)+.1)[None]\n",
    "k = .5*torch.rand(n).double()[None]+.5\n",
    "#K = k[:,:,None]*k[:,None,:] #(bs,n,n)\n",
    "q0 = 2*torch.rand(n,d).double()-1#torch.tensor([3,2,-3,0,0,0,0,5,0,1,1,6]).double()[:n*d]#\n",
    "p0 = 3*(2*torch.rand(n,d).double()-1)#/masses[0][:,None]#torch.tensor([1,20,-6,0,0,14,50,0,0,0,0,0]).double()[:n*d]#30*(torch.randn(n,d)).reshape(n*d)\n",
    "p0 -= p0.mean(0,keepdim=True)\n",
    "z0 = torch.cat([q0.reshape(n*d),p0.reshape(n*d)])[None,:]\n",
    "\n",
    "H = lambda t,z: SpringH(z,masses,k)\n",
    "Dynamics = HamiltonianDynamics(H,wgrad=False)\n",
    "ts = torch.linspace(0,5,500).double()\n",
    "with torch.no_grad():\n",
    "    zt = odeint(Dynamics,z0,ts,rtol=1e-5).cpu().data.numpy()\n",
    "qt = zt[:,0,:n*d].reshape(zt.shape[0],n,d).transpose((1,2,0))\n",
    "A = AnimationNd(d)(qt)\n",
    "a = A.animate()\n",
    "plt.show()"
   ]
  },
  {
   "cell_type": "markdown",
   "metadata": {},
   "source": [
    "## Ball Dynamics"
   ]
  },
  {
   "cell_type": "code",
   "execution_count": null,
   "metadata": {
    "scrolled": false
   },
   "outputs": [],
   "source": [
    "n = 6\n",
    "d = 2\n",
    "\n",
    "rs = .15*torch.rand(n).double()[None]+.1\n",
    "masses =45*(12*rs)**d\n",
    "q0 = .5*(2*torch.rand(n,d).double()-1)#torch.tensor([3,2,-3,0,0,0,0,5,0,1,1,6]).double()[:n*d]#\n",
    "p0 = 1*torch.randn(n,d).double()*3**d#torch.tensor([1,20,-6,0,0,14,50,0,0,0,0,0]).double()[:n*d]#30*(torch.randn(n,d)).reshape(n*d)\n",
    "z0 = torch.cat([q0.reshape(n*d),p0.reshape(n*d)])[None,:]\n",
    "\n",
    "H = lambda t,z: BallH(z,masses,rs)\n",
    "Dynamics = HamiltonianDynamics(H,wgrad=False)\n",
    "ts = torch.linspace(0,1,500).double()\n",
    "with torch.no_grad():\n",
    "    zt = odeint(Dynamics,z0,ts,rtol=1e-3).cpu().data.numpy()\n",
    "qt = zt[:,0,:n*d].reshape(zt.shape[0],n,d).transpose((1,2,0))\n",
    "A = AnimationNd(d)(qt,ms=300*rs[0])\n",
    "a = A.animate()\n",
    "plt.show()"
   ]
  },
  {
   "cell_type": "code",
   "execution_count": null,
   "metadata": {},
   "outputs": [],
   "source": [
    "p = zt[:,0,n*d:].reshape(-1,n,d)\n",
    "p0n = p0.cpu().data.numpy().reshape(1,n,d)\n",
    "q = qt.transpose(2,0,1)\n",
    "Et = torch.stack([H(t,torch.from_numpy(z)) for t,z in zip(ts,zt)],dim=0).cpu().data.numpy()\n",
    "pcm = (p-p.mean(1,keepdims=True))\n",
    "qcm = (q-q.mean(1,keepdims=True))\n",
    "cross = (pcm[:,:,None,:]*qcm[:,:,:,None]-qcm[:,:,None,:]*pcm[:,:,:,None]).sum(1)\n",
    "angmom = cross.reshape(-1,d**2)#[:,[5,2,1]] # pull out (2,3),(0,2),(0,1) = Lx, -Ly, Lz\n",
    "#angmom[:,1] *=-1\n",
    "fig, axs = plt.subplots(3, 1,sharex=True)\n",
    "axs[0].plot(ts,(Et-Et[0])/Et[0])\n",
    "axs[0].set_title(\"Energy drift\")\n",
    "axs[1].plot(ts,np.linalg.norm(p.sum(1)-p0n.sum(1),axis=-1)/(np.linalg.norm(p0n.sum(1),axis=-1)+1e-10))\n",
    "axs[1].set_title(\"Momentum drift\")\n",
    "axs[2].plot(ts,np.linalg.norm(angmom-angmom[:1],axis=-1)/(np.linalg.norm(angmom[:1],axis=-1)+1e-10))\n",
    "axs[2].set_title(\"Angular Momentum drift\")\n",
    "for ax in axs.flat:\n",
    "    ax.set(ylabel='relative error')\n",
    "plt.xlabel('time')\n",
    "plt.show()"
   ]
  },
  {
   "cell_type": "code",
   "execution_count": null,
   "metadata": {},
   "outputs": [],
   "source": [
    "import ipywidgets as widgets\n",
    "from ipywidgets import interact\n",
    "play = widgets.Play(\n",
    "#     interval=10,\n",
    "    value=2,\n",
    "    min=2,\n",
    "    max=qt.shape[-1]-1,\n",
    "    step=1,\n",
    "    description=\"Press play\",\n",
    "    disabled=False\n",
    ")\n",
    "slider = widgets.IntSlider()\n",
    "# widgets.jslink((play, 'value'), (slider, 'value'))\n",
    "# widgets.HBox([play, slider])\n",
    "interact(A.update,i=(1,99))"
   ]
  },
  {
   "cell_type": "code",
   "execution_count": null,
   "metadata": {},
   "outputs": [],
   "source": []
  }
 ],
 "metadata": {
  "kernelspec": {
   "display_name": "Python 3",
   "language": "python",
   "name": "python3"
  },
  "language_info": {
   "codemirror_mode": {
    "name": "ipython",
    "version": 3
   },
   "file_extension": ".py",
   "mimetype": "text/x-python",
   "name": "python",
   "nbconvert_exporter": "python",
   "pygments_lexer": "ipython3",
   "version": "3.7.5"
  }
 },
 "nbformat": 4,
 "nbformat_minor": 4
}
