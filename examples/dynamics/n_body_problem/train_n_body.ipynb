{
 "cells": [
  {
   "cell_type": "code",
   "execution_count": null,
   "metadata": {},
   "outputs": [],
   "source": [
    "import os\n",
    "import torch\n",
    "from hamiltonian import *\n",
    "from torch.utils.data import DataLoader\n",
    "from torch.optim import SGD, Adam\n",
    "from oil.utils.utils import LoaderTo, cosLr, recursively_update,islice, Eval\n",
    "from equivariant_color.datasets import NBodyDynamics\n",
    "from equivariant_color.dynamicsTrainer import IntegratedDynamicsTrainer,FCHamNet, Partial,RawDynamicsNet, LieConvNetT2, LieResNetT2\n",
    "from graphnets import OGN,HOGN, VOGN\n",
    "\n",
    "class ZeroBaseline(torch.nn.Module):\n",
    "    def __init__(self, device):\n",
    "        super().__init__()\n",
    "        self.nfe = 0\n",
    "        self.device = device\n",
    "    def parameters(self):\n",
    "        return [torch.tensor([1.], requires_grad=True)]\n",
    "    def forward(self, *args, **kwargs):\n",
    "        self.nfe += 1\n",
    "        return torch.tensor((0.,), requires_grad=True, device=self.device)\n",
    "\n",
    "def makeTrainer(lr=1e-2,N=200, regen=True):\n",
    "    # Create Training set and model\n",
    "    trainset = NBodyDynamics(n_systems=N,regen=regen, chunk_len=20)\n",
    "    testset = NBodyDynamics(n_systems=N//10,train=False,regen=regen, chunk_len=20)\n",
    "    \n",
    "    device = torch.device('cuda')\n",
    "    dtype = torch.float64\n",
    "#     model = ZeroBaseline(device).to(device)\n",
    "    model = FCHamNet(k=256, d=trainset.space_dim, sys_dim=trainset.sys_dim).to(device=device,dtype=dtype)\n",
    "#     model = LieResNetT2(k=384, num_layers=4, d=trainset.space_dim, sys_dim=trainset.sys_dim).to(device=device,dtype=dtype)\n",
    "#     model = HOGN(k=512, num_layers=1, d=trainset.space_dim, sys_dim=trainset.sys_dim).to(device=device,dtype=dtype)\n",
    "#     model = OGN(k=256, d=trainset.space_dim, sys_dim=trainset.sys_dim).to(device=device,dtype=dtype)\n",
    "#     model = VOGN(k=512, d=trainset.space_dim, sys_dim=trainset.sys_dim).to(device=device,dtype=dtype)\n",
    "#     model = RawDynamicsNet(k=512, d=trainset.space_dim, sys_dim=trainset.sys_dim).to(device=device,dtype=dtype)\n",
    "    model.double()\n",
    "    \n",
    "    # Create train and Dev(Test) dataloaders and move elems to gpu\n",
    "    dataloaders = {}\n",
    "    dataloaders['train'] = DataLoader(trainset,batch_size=200,num_workers=0,shuffle=True,pin_memory=True)\n",
    "    dataloaders['Train'] = dataloaders['train']\n",
    "    dataloaders['Test'] = DataLoader(testset,batch_size=200,num_workers=0,shuffle=False,pin_memory=True)\n",
    "    dataloaders = {k:LoaderTo(v,device=device,dtype=dtype) for k,v in dataloaders.items()}\n",
    "    \n",
    "    # Initialize optimizer and learning rate schedule\n",
    "    opt_constr = lambda params: Adam(params, lr=lr)\n",
    "    lr_sched = lambda e: 1#cosLr(cfg['num_epochs'])\n",
    "    return IntegratedDynamicsTrainer(model,dataloaders,opt_constr,lr_sched,tol=1e-4, log_args={'timeFrac':1/2,'minPeriod':0.0})"
   ]
  },
  {
   "cell_type": "code",
   "execution_count": null,
   "metadata": {},
   "outputs": [],
   "source": [
    "%debug\n",
    "trainer = makeTrainer(N=5000, lr=5e-3, regen=True)\n",
    "trainer.train(100)"
   ]
  },
  {
   "cell_type": "code",
   "execution_count": null,
   "metadata": {},
   "outputs": [],
   "source": [
    "import matplotlib.pyplot as plt\n",
    "trainer.logger.scalar_frame.drop(columns=['lr0','nfe']).plot()\n",
    "plt.yscale('log')"
   ]
  },
  {
   "cell_type": "code",
   "execution_count": null,
   "metadata": {},
   "outputs": [],
   "source": [
    "# n_systems = 20\n",
    "# n_bodies = 6  # NBodyDynamics assumes n=6\n",
    "# d = 3\n",
    "# trainset = NBodyDynamics(N=1,regen=False)\n",
    "# timesteps, z, sys_params = [], [], []\n",
    "# for i in range(n_systems):\n",
    "#     z0, params = trainset.sample_system(bs=1, n=n_bodies)\n",
    "#     traj = trainset.sim_trajectories(z0, params)\n",
    "#     z.append(traj[1])\n",
    "#     sys_params.append(params[0])\n",
    "    \n",
    "# t = traj[0]\n",
    "# z = torch.cat(z, dim=1)\n",
    "# sys_params = torch.cat(sys_params).unsqueeze(-1)\n",
    "# t, z, p = trainset.chunk(t, z, sys_params, C=5)"
   ]
  },
  {
   "cell_type": "code",
   "execution_count": null,
   "metadata": {},
   "outputs": [],
   "source": [
    "# root_dir = os.path.expanduser(\"~/datasets/ODEDynamics/NBodyDynamics\")\n",
    "# torch.save((t, z, p), os.path.join(root_dir, f\"dyn_{n_systems}_test.pz\"))"
   ]
  },
  {
   "cell_type": "code",
   "execution_count": null,
   "metadata": {
    "scrolled": false
   },
   "outputs": [],
   "source": [
    "# # print(pos_mom.shape)\n",
    "# qt = pos_mom[:, 0, :n_bodies*d].reshape(-1, n_bodies, d).permute(1, 2, 0)\n",
    "# print(qt.shape)\n",
    "\n",
    "# fig = plt.figure()\n",
    "# ax = fig.add_subplot(111, projection='3d')\n",
    "# for i in range(n_bodies):\n",
    "#     ax.scatter(qt[i, 0], qt[i, 1], qt[i, 2])\n",
    "#     ax.set_xlim((-150, 150))\n",
    "#     ax.set_ylim((-150, 150))\n",
    "#     ax.set_zlim((-150, 150))"
   ]
  },
  {
   "cell_type": "code",
   "execution_count": null,
   "metadata": {},
   "outputs": [],
   "source": [
    "# %matplotlib notebook\n",
    "# xlim = ylim = zlim = (-150, 150)\n",
    "# A = AnimationNd(d)(qt.detach().cpu().numpy(), None, xlim, ylim, zlim)\n",
    "# a = A.animate()\n",
    "# plt.show()"
   ]
  }
 ],
 "metadata": {
  "kernelspec": {
   "display_name": "Python 3",
   "language": "python",
   "name": "python3"
  },
  "language_info": {
   "codemirror_mode": {
    "name": "ipython",
    "version": 3
   },
   "file_extension": ".py",
   "mimetype": "text/x-python",
   "name": "python",
   "nbconvert_exporter": "python",
   "pygments_lexer": "ipython3",
   "version": "3.7.5"
  }
 },
 "nbformat": 4,
 "nbformat_minor": 2
}
